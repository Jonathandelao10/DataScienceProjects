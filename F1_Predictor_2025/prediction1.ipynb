{
 "cells": [
  {
   "cell_type": "markdown",
   "id": "e7daae30",
   "metadata": {},
   "source": [
    "### Prediction 1: Australia"
   ]
  },
  {
   "cell_type": "code",
   "execution_count": null,
   "id": "c23d76ba",
   "metadata": {},
   "outputs": [
    {
     "name": "stdout",
     "output_type": "stream",
     "text": [
      "Collecting fastf1\n",
      "  Using cached fastf1-3.5.3-py3-none-any.whl.metadata (4.6 kB)\n",
      "Requirement already satisfied: matplotlib<4.0.0,>=3.5.1 in c:\\users\\jonat\\appdata\\local\\programs\\python\\python39\\lib\\site-packages (from fastf1) (3.9.2)\n",
      "Requirement already satisfied: numpy<3.0.0,>=1.23.1 in c:\\users\\jonat\\appdata\\local\\programs\\python\\python39\\lib\\site-packages (from fastf1) (2.0.2)\n",
      "Requirement already satisfied: pandas<3.0.0,>=1.4.1 in c:\\users\\jonat\\appdata\\local\\programs\\python\\python39\\lib\\site-packages (from fastf1) (2.2.3)\n",
      "Requirement already satisfied: python-dateutil in c:\\users\\jonat\\appdata\\roaming\\python\\python39\\site-packages (from fastf1) (2.9.0.post0)\n",
      "Collecting rapidfuzz (from fastf1)\n",
      "  Using cached rapidfuzz-3.13.0-cp39-cp39-win_amd64.whl.metadata (12 kB)\n",
      "Collecting requests-cache>=1.0.0 (from fastf1)\n",
      "  Using cached requests_cache-1.2.1-py3-none-any.whl.metadata (9.9 kB)\n",
      "Requirement already satisfied: requests>=2.28.1 in c:\\users\\jonat\\appdata\\local\\programs\\python\\python39\\lib\\site-packages (from fastf1) (2.32.3)\n",
      "Requirement already satisfied: scipy<2.0.0,>=1.8.1 in c:\\users\\jonat\\appdata\\local\\programs\\python\\python39\\lib\\site-packages (from fastf1) (1.13.1)\n",
      "Collecting timple>=0.1.6 (from fastf1)\n",
      "  Using cached timple-0.1.8-py3-none-any.whl.metadata (2.0 kB)\n",
      "Collecting websockets<14,>=10.3 (from fastf1)\n",
      "  Using cached websockets-13.1-cp39-cp39-win_amd64.whl.metadata (7.0 kB)\n",
      "Requirement already satisfied: contourpy>=1.0.1 in c:\\users\\jonat\\appdata\\local\\programs\\python\\python39\\lib\\site-packages (from matplotlib<4.0.0,>=3.5.1->fastf1) (1.3.0)\n",
      "Requirement already satisfied: cycler>=0.10 in c:\\users\\jonat\\appdata\\local\\programs\\python\\python39\\lib\\site-packages (from matplotlib<4.0.0,>=3.5.1->fastf1) (0.12.1)\n",
      "Requirement already satisfied: fonttools>=4.22.0 in c:\\users\\jonat\\appdata\\local\\programs\\python\\python39\\lib\\site-packages (from matplotlib<4.0.0,>=3.5.1->fastf1) (4.54.1)\n",
      "Requirement already satisfied: kiwisolver>=1.3.1 in c:\\users\\jonat\\appdata\\local\\programs\\python\\python39\\lib\\site-packages (from matplotlib<4.0.0,>=3.5.1->fastf1) (1.4.7)\n",
      "Requirement already satisfied: packaging>=20.0 in c:\\users\\jonat\\appdata\\roaming\\python\\python39\\site-packages (from matplotlib<4.0.0,>=3.5.1->fastf1) (24.0)\n",
      "Requirement already satisfied: pillow>=8 in c:\\users\\jonat\\appdata\\local\\programs\\python\\python39\\lib\\site-packages (from matplotlib<4.0.0,>=3.5.1->fastf1) (10.4.0)\n",
      "Requirement already satisfied: pyparsing>=2.3.1 in c:\\users\\jonat\\appdata\\local\\programs\\python\\python39\\lib\\site-packages (from matplotlib<4.0.0,>=3.5.1->fastf1) (3.1.4)\n",
      "Requirement already satisfied: importlib-resources>=3.2.0 in c:\\users\\jonat\\appdata\\local\\programs\\python\\python39\\lib\\site-packages (from matplotlib<4.0.0,>=3.5.1->fastf1) (6.4.5)\n",
      "Requirement already satisfied: pytz>=2020.1 in c:\\users\\jonat\\appdata\\local\\programs\\python\\python39\\lib\\site-packages (from pandas<3.0.0,>=1.4.1->fastf1) (2024.2)\n",
      "Requirement already satisfied: tzdata>=2022.7 in c:\\users\\jonat\\appdata\\local\\programs\\python\\python39\\lib\\site-packages (from pandas<3.0.0,>=1.4.1->fastf1) (2024.2)\n",
      "Requirement already satisfied: six>=1.5 in c:\\users\\jonat\\appdata\\roaming\\python\\python39\\site-packages (from python-dateutil->fastf1) (1.16.0)\n",
      "Requirement already satisfied: charset-normalizer<4,>=2 in c:\\users\\jonat\\appdata\\local\\programs\\python\\python39\\lib\\site-packages (from requests>=2.28.1->fastf1) (3.4.1)\n",
      "Requirement already satisfied: idna<4,>=2.5 in c:\\users\\jonat\\appdata\\local\\programs\\python\\python39\\lib\\site-packages (from requests>=2.28.1->fastf1) (3.10)\n",
      "Requirement already satisfied: urllib3<3,>=1.21.1 in c:\\users\\jonat\\appdata\\local\\programs\\python\\python39\\lib\\site-packages (from requests>=2.28.1->fastf1) (2.3.0)\n",
      "Requirement already satisfied: certifi>=2017.4.17 in c:\\users\\jonat\\appdata\\local\\programs\\python\\python39\\lib\\site-packages (from requests>=2.28.1->fastf1) (2025.1.31)\n",
      "Requirement already satisfied: attrs>=21.2 in c:\\users\\jonat\\appdata\\local\\programs\\python\\python39\\lib\\site-packages (from requests-cache>=1.0.0->fastf1) (25.1.0)\n",
      "Collecting cattrs>=22.2 (from requests-cache>=1.0.0->fastf1)\n",
      "  Using cached cattrs-25.1.1-py3-none-any.whl.metadata (8.4 kB)\n",
      "Requirement already satisfied: platformdirs>=2.5 in c:\\users\\jonat\\appdata\\roaming\\python\\python39\\site-packages (from requests-cache>=1.0.0->fastf1) (4.2.2)\n",
      "Collecting url-normalize>=1.4 (from requests-cache>=1.0.0->fastf1)\n",
      "  Using cached url_normalize-2.2.1-py3-none-any.whl.metadata (5.6 kB)\n",
      "Requirement already satisfied: exceptiongroup>=1.1.1 in c:\\users\\jonat\\appdata\\roaming\\python\\python39\\site-packages (from cattrs>=22.2->requests-cache>=1.0.0->fastf1) (1.2.1)\n",
      "Collecting typing-extensions>=4.12.2 (from cattrs>=22.2->requests-cache>=1.0.0->fastf1)\n",
      "  Downloading typing_extensions-4.14.1-py3-none-any.whl.metadata (3.0 kB)\n",
      "Requirement already satisfied: zipp>=3.1.0 in c:\\users\\jonat\\appdata\\roaming\\python\\python39\\site-packages (from importlib-resources>=3.2.0->matplotlib<4.0.0,>=3.5.1->fastf1) (3.18.2)\n",
      "Using cached fastf1-3.5.3-py3-none-any.whl (151 kB)\n",
      "Using cached requests_cache-1.2.1-py3-none-any.whl (61 kB)\n",
      "Using cached timple-0.1.8-py3-none-any.whl (17 kB)\n",
      "Using cached websockets-13.1-cp39-cp39-win_amd64.whl (159 kB)\n",
      "Using cached rapidfuzz-3.13.0-cp39-cp39-win_amd64.whl (1.6 MB)\n",
      "Using cached cattrs-25.1.1-py3-none-any.whl (69 kB)\n",
      "Using cached url_normalize-2.2.1-py3-none-any.whl (14 kB)\n",
      "Downloading typing_extensions-4.14.1-py3-none-any.whl (43 kB)\n",
      "Installing collected packages: websockets, url-normalize, typing-extensions, rapidfuzz, cattrs, timple, requests-cache, fastf1\n",
      "  Attempting uninstall: typing-extensions\n",
      "    Found existing installation: typing_extensions 4.11.0\n",
      "    Uninstalling typing_extensions-4.11.0:\n",
      "      Successfully uninstalled typing_extensions-4.11.0\n",
      "Successfully installed cattrs-25.1.1 fastf1-3.5.3 rapidfuzz-3.13.0 requests-cache-1.2.1 timple-0.1.8 typing-extensions-4.14.1 url-normalize-2.2.1 websockets-13.1\n"
     ]
    },
    {
     "name": "stderr",
     "output_type": "stream",
     "text": [
      "\n",
      "[notice] A new release of pip is available: 25.0.1 -> 25.1.1\n",
      "[notice] To update, run: python.exe -m pip install --upgrade pip\n"
     ]
    }
   ],
   "source": [
    "import sys\n",
    "!{sys.executable} -m pip install fastf1 "
   ]
  },
  {
   "cell_type": "code",
   "execution_count": null,
   "id": "8faef8d0",
   "metadata": {},
   "outputs": [],
   "source": [
    "# Imports\n",
    "import os\n",
    "import fastf1\n",
    "import pandas as pd \n",
    " "
   ]
  },
  {
   "cell_type": "code",
   "execution_count": null,
   "id": "27092786",
   "metadata": {},
   "outputs": [],
   "source": [
    "# Enables local cache\n",
    "cache_folder = 'cache_folder'\n",
    "\n",
    "if not os.path.exists(cache_folder):\n",
    "    os.makedirs(cache_folder)\n",
    "\n",
    "fastf1.Cache.enable_cache(cache_folder) "
   ]
  },
  {
   "cell_type": "code",
   "execution_count": 7,
   "id": "0630ed2b",
   "metadata": {},
   "outputs": [
    {
     "name": "stderr",
     "output_type": "stream",
     "text": [
      "core           INFO \tLoading data for Australian Grand Prix - Race [v3.5.3]\n",
      "req            INFO \tUsing cached data for session_info\n",
      "req            INFO \tUsing cached data for driver_info\n",
      "req            INFO \tUsing cached data for session_status_data\n",
      "req            INFO \tUsing cached data for lap_count\n",
      "req            INFO \tUsing cached data for track_status_data\n",
      "req            INFO \tUsing cached data for _extended_timing_data\n",
      "req            INFO \tUsing cached data for timing_app_data\n",
      "core           INFO \tProcessing timing data...\n",
      "req            INFO \tUsing cached data for car_data\n",
      "req            INFO \tUsing cached data for position_data\n",
      "req            INFO \tUsing cached data for weather_data\n",
      "req            INFO \tUsing cached data for race_control_messages\n",
      "core           INFO \tFinished loading data for 19 drivers: ['55', '16', '4', '81', '11', '18', '22', '14', '27', '20', '23', '3', '10', '77', '24', '31', '63', '44', '1']\n"
     ]
    }
   ],
   "source": [
    "# Load Fastf1 2024 Australian GP race session\n",
    "\n",
    "session = fastf1.get_session(2024, 3, \"R\")\n",
    "session.load()\n",
    "\n",
    "# Extract lap times\n",
    "session_laps = session.laps[[\"Driver\", \"LapTime\"]].copy()\n",
    "session_laps.dropna(subset = [\"LapTime\"], inplace = True)\n",
    "session_laps[\"LapTime (s)\"] = session_laps[\"LapTime\"].dt.total_seconds()"
   ]
  },
  {
   "cell_type": "code",
   "execution_count": null,
   "id": "4f346300",
   "metadata": {},
   "outputs": [],
   "source": [
    "# 2025 Qualifying Data\n",
    "qualifying_2025 = pd.DataFrame({\n",
    "    \"Driver\": [\"Lando Norris\", \"Oscar Piastri\", \"Max Verstappen\", \"George Russell\", \"Yuki Tsunoda\",\n",
    "               \"Alexander Albon\", \"Charles Leclerc\", \"Lewis Hamilton\", \"Pierre Gasly\", \"Carlos Sainz\", \"Fernando Alonso\", \"Lance Stroll\"],\n",
    "    \"QualifyingTime (s)\": [75.096, 75.180, 75.481, 75.546, 75.670,\n",
    "                           75.737, 75.755, 75.973, 75.980, 76.062, 76.4, 76.5]\n",
    "})\n",
    "\n",
    "# Map full names to FastF1 3-letter codes\n",
    "driver_mapping = {\n",
    "    \"Lando Norris\": \"NOR\", \"Oscar Piastri\": \"PIA\", \"Max Verstappen\": \"VER\", \"George Russell\": \"RUS\",\n",
    "    \"Yuki Tsunoda\": \"TSU\", \"Alexander Albon\": \"ALB\", \"Charles Leclerc\": \"LEC\", \"Lewis Hamilton\": \"HAM\",\n",
    "    \"Pierre Gasly\": \"GAS\", \"Carlos Sainz\": \"SAI\", \"Lance Stroll\": \"STR\", \"Fernando Alonso\": \"ALO\"\n",
    "}\n",
    "\n",
    "\n",
    "qualifying_2025[\"DriverCode\"] = qualifying_2025[\"Driver\"].map(driver_mapping)\n",
    "\n",
    "# Merge 2025 Qualifying Data with 2024 Race Data\n",
    "merged_data = qualifying_2025.merge(session_laps, left_on=\"DriverCode\", right_on=\"Driver\")\n",
    "\n",
    "# Use only \"QualifyingTime (s)\" as a feature\n",
    "X = merged_data[[\"QualifyingTime (s)\"]]\n",
    "y = merged_data[\"LapTime (s)\"]\n",
    "\n",
    "if X.shape[0] == 0:\n",
    "    raise ValueError(\"Dataset is empty after preprocessing. Check data sources!\")"
   ]
  },
  {
   "cell_type": "code",
   "execution_count": 12,
   "id": "cd5d7d59",
   "metadata": {},
   "outputs": [],
   "source": [
    "from sklearn.model_selection import train_test_split\n",
    "from sklearn.ensemble import GradientBoostingRegressor\n",
    "from sklearn.metrics import mean_absolute_error\n",
    "\n",
    "# Train Gradient Boosting Model\n",
    "X_train, X_test, y_train, y_test = train_test_split(X, y, test_size=0.2, random_state=39)\n",
    "model = GradientBoostingRegressor(n_estimators=100, learning_rate=0.1, random_state=39)\n",
    "model.fit(X_train, y_train)\n",
    "\n",
    "# Predict using 2025 qualifying times\n",
    "predicted_lap_times = model.predict(qualifying_2025[[\"QualifyingTime (s)\"]])\n",
    "qualifying_2025[\"PredictedRaceTime (s)\"] = predicted_lap_times\n"
   ]
  },
  {
   "cell_type": "code",
   "execution_count": 13,
   "id": "92c5a454",
   "metadata": {},
   "outputs": [],
   "source": [
    "# Rank drivers by predicted race time\n",
    "qualifying_2025 = qualifying_2025.sort_values(by=\"PredictedRaceTime (s)\")"
   ]
  },
  {
   "cell_type": "code",
   "execution_count": 14,
   "id": "b9f4e4b2",
   "metadata": {},
   "outputs": [
    {
     "name": "stdout",
     "output_type": "stream",
     "text": [
      "\n",
      "🏁 Predicted 2025 Chinese GP Winner 🏁\n",
      "\n",
      "             Driver  PredictedRaceTime (s)\n",
      "0      Lando Norris              82.712267\n",
      "6   Charles Leclerc              83.079012\n",
      "9      Carlos Sainz              83.621623\n",
      "10  Fernando Alonso              83.871856\n",
      "3    George Russell              83.886910\n",
      "1     Oscar Piastri              84.330049\n",
      "4      Yuki Tsunoda              84.417801\n",
      "5   Alexander Albon              84.644262\n",
      "2    Max Verstappen              85.187728\n",
      "11     Lance Stroll              85.287535\n",
      "8      Pierre Gasly              85.541400\n",
      "7    Lewis Hamilton              86.098211\n",
      "\n",
      "🔍 Model Error (MAE): 3.47 seconds\n"
     ]
    }
   ],
   "source": [
    "# Print final predictions\n",
    "print(\"\\n🏁 Predicted 2025 Chinese GP Winner 🏁\\n\")\n",
    "print(qualifying_2025[[\"Driver\", \"PredictedRaceTime (s)\"]])\n",
    "\n",
    "# Evaluate Model\n",
    "y_pred = model.predict(X_test)\n",
    "print(f\"\\n🔍 Model Error (MAE): {mean_absolute_error(y_test, y_pred):.2f} seconds\")"
   ]
  },
  {
   "cell_type": "code",
   "execution_count": null,
   "id": "6e80f927",
   "metadata": {},
   "outputs": [],
   "source": []
  }
 ],
 "metadata": {
  "kernelspec": {
   "display_name": "Python 3",
   "language": "python",
   "name": "python3"
  },
  "language_info": {
   "codemirror_mode": {
    "name": "ipython",
    "version": 3
   },
   "file_extension": ".py",
   "mimetype": "text/x-python",
   "name": "python",
   "nbconvert_exporter": "python",
   "pygments_lexer": "ipython3",
   "version": "3.9.1"
  }
 },
 "nbformat": 4,
 "nbformat_minor": 5
}
