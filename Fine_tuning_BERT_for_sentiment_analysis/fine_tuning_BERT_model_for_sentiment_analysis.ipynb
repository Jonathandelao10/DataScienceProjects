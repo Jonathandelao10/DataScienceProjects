{
 "cells": [
  {
   "cell_type": "markdown",
   "id": "75283978",
   "metadata": {},
   "source": [
    "### Fine Tuning BERT model for Sentiment Analysis\n",
    "\n",
    "##### Goal: To fine tune Google's BERT model by adding a few neural network layers on my own and freezing the actual layers of BERT architecture.\n",
    "\n",
    "##### Problem Statement: Classifying sentences into POSITIVE and NEGATIVE by using fine-tuned BERT model."
   ]
  },
  {
   "cell_type": "code",
   "execution_count": 1,
   "id": "3f014574",
   "metadata": {},
   "outputs": [
    {
     "name": "stdout",
     "output_type": "stream",
     "text": [
      "Requirement already satisfied: transformers in c:\\users\\jonat\\appdata\\local\\programs\\python\\python39\\lib\\site-packages (4.49.0)\n",
      "Requirement already satisfied: filelock in c:\\users\\jonat\\appdata\\local\\programs\\python\\python39\\lib\\site-packages (from transformers) (3.17.0)\n",
      "Requirement already satisfied: huggingface-hub<1.0,>=0.26.0 in c:\\users\\jonat\\appdata\\local\\programs\\python\\python39\\lib\\site-packages (from transformers) (0.28.1)\n",
      "Requirement already satisfied: numpy>=1.17 in c:\\users\\jonat\\appdata\\roaming\\python\\python39\\site-packages (from transformers) (1.26.4)\n",
      "Requirement already satisfied: packaging>=20.0 in c:\\users\\jonat\\appdata\\roaming\\python\\python39\\site-packages (from transformers) (25.0)\n",
      "Requirement already satisfied: pyyaml>=5.1 in c:\\users\\jonat\\appdata\\local\\programs\\python\\python39\\lib\\site-packages (from transformers) (6.0.2)\n",
      "Requirement already satisfied: regex!=2019.12.17 in c:\\users\\jonat\\appdata\\local\\programs\\python\\python39\\lib\\site-packages (from transformers) (2024.11.6)\n",
      "Requirement already satisfied: requests in c:\\users\\jonat\\appdata\\roaming\\python\\python39\\site-packages (from transformers) (2.32.4)\n",
      "Requirement already satisfied: tokenizers<0.22,>=0.21 in c:\\users\\jonat\\appdata\\local\\programs\\python\\python39\\lib\\site-packages (from transformers) (0.21.0)\n",
      "Requirement already satisfied: safetensors>=0.4.1 in c:\\users\\jonat\\appdata\\local\\programs\\python\\python39\\lib\\site-packages (from transformers) (0.5.2)\n",
      "Requirement already satisfied: tqdm>=4.27 in c:\\users\\jonat\\appdata\\local\\programs\\python\\python39\\lib\\site-packages (from transformers) (4.67.1)\n",
      "Requirement already satisfied: fsspec>=2023.5.0 in c:\\users\\jonat\\appdata\\local\\programs\\python\\python39\\lib\\site-packages (from huggingface-hub<1.0,>=0.26.0->transformers) (2024.9.0)\n",
      "Requirement already satisfied: typing-extensions>=3.7.4.3 in c:\\users\\jonat\\appdata\\roaming\\python\\python39\\site-packages (from huggingface-hub<1.0,>=0.26.0->transformers) (4.14.1)\n",
      "Requirement already satisfied: colorama in c:\\users\\jonat\\appdata\\roaming\\python\\python39\\site-packages (from tqdm>=4.27->transformers) (0.4.6)\n",
      "Requirement already satisfied: charset_normalizer<4,>=2 in c:\\users\\jonat\\appdata\\roaming\\python\\python39\\site-packages (from requests->transformers) (3.4.2)\n",
      "Requirement already satisfied: idna<4,>=2.5 in c:\\users\\jonat\\appdata\\roaming\\python\\python39\\site-packages (from requests->transformers) (3.10)\n",
      "Requirement already satisfied: urllib3<3,>=1.21.1 in c:\\users\\jonat\\appdata\\roaming\\python\\python39\\site-packages (from requests->transformers) (2.5.0)\n",
      "Requirement already satisfied: certifi>=2017.4.17 in c:\\users\\jonat\\appdata\\roaming\\python\\python39\\site-packages (from requests->transformers) (2025.7.14)\n",
      "Note: you may need to restart the kernel to use updated packages.\n",
      "Requirement already satisfied: torch in c:\\users\\jonat\\appdata\\local\\programs\\python\\python39\\lib\\site-packages (2.6.0)\n",
      "Requirement already satisfied: filelock in c:\\users\\jonat\\appdata\\local\\programs\\python\\python39\\lib\\site-packages (from torch) (3.17.0)\n",
      "Requirement already satisfied: typing-extensions>=4.10.0 in c:\\users\\jonat\\appdata\\roaming\\python\\python39\\site-packages (from torch) (4.14.1)\n",
      "Requirement already satisfied: networkx in c:\\users\\jonat\\appdata\\local\\programs\\python\\python39\\lib\\site-packages (from torch) (3.2.1)\n",
      "Requirement already satisfied: jinja2 in c:\\users\\jonat\\appdata\\local\\programs\\python\\python39\\lib\\site-packages (from torch) (3.1.5)\n",
      "Requirement already satisfied: fsspec in c:\\users\\jonat\\appdata\\local\\programs\\python\\python39\\lib\\site-packages (from torch) (2024.9.0)\n",
      "Requirement already satisfied: sympy==1.13.1 in c:\\users\\jonat\\appdata\\local\\programs\\python\\python39\\lib\\site-packages (from torch) (1.13.1)\n",
      "Requirement already satisfied: mpmath<1.4,>=1.1.0 in c:\\users\\jonat\\appdata\\local\\programs\\python\\python39\\lib\\site-packages (from sympy==1.13.1->torch) (1.3.0)\n",
      "Requirement already satisfied: MarkupSafe>=2.0 in c:\\users\\jonat\\appdata\\roaming\\python\\python39\\site-packages (from jinja2->torch) (3.0.2)\n",
      "Note: you may need to restart the kernel to use updated packages.\n"
     ]
    }
   ],
   "source": [
    "%pip install transformers\n",
    "%pip install torch"
   ]
  },
  {
   "cell_type": "code",
   "execution_count": 1,
   "id": "cf2bdbaf",
   "metadata": {},
   "outputs": [
    {
     "name": "stderr",
     "output_type": "stream",
     "text": [
      "c:\\Users\\jonat\\AppData\\Local\\Programs\\Python\\Python39\\lib\\site-packages\\tqdm\\auto.py:21: TqdmWarning: IProgress not found. Please update jupyter and ipywidgets. See https://ipywidgets.readthedocs.io/en/stable/user_install.html\n",
      "  from .autonotebook import tqdm as notebook_tqdm\n"
     ]
    }
   ],
   "source": [
    "# Preparing the dataset\n",
    "\n",
    "# Imports\n",
    "\n",
    "import pandas as pd  \n",
    "import numpy as np\n",
    "import torch # For Data structures for multi-dimensional tensors.\n",
    "from transformers import BertTokenizerFast, AutoModel\n",
    "from sklearn.model_selection import train_test_split\n",
    "from sklearn.metrics import classification_report\n",
    "import matplotlib.pyplot as plt\n",
    "from torch import nn \n",
    "from torch.utils.data import DataLoader # For efficiently loading and iterating over datasets during model training and evaluation.\n",
    "from torch.nn import CrossEntropyLoss\n",
    "from torch.optim import AdamW"
   ]
  },
  {
   "cell_type": "code",
   "execution_count": 2,
   "id": "0591d631",
   "metadata": {},
   "outputs": [],
   "source": [
    "# Load the dataset\n",
    "\n",
    "df = pd.read_csv('IMDB-Dataset.csv')"
   ]
  },
  {
   "cell_type": "code",
   "execution_count": 3,
   "id": "1ed7bd32",
   "metadata": {},
   "outputs": [],
   "source": [
    "# Split the dataset\n",
    "\n",
    "from sklearn.model_selection import train_test_split\n",
    "\n",
    "train_text, temp_text, train_labels, temp_labels = train_test_split(df['sentence'], df['label'], \n",
    "                                                                    random_state = 2021, test_size = 0.3,\n",
    "                                                                    stratify = df['label'])\n",
    "\n",
    "\n",
    "\n",
    "val_text, test_text, val_labels, test_labels = train_test_split(temp_text, temp_labels, random_state=2021,\n",
    "                                                                test_size = 0.5, stratify= temp_labels)\n",
    "\n",
    "\n",
    "\n"
   ]
  },
  {
   "cell_type": "code",
   "execution_count": 4,
   "id": "753245dc",
   "metadata": {},
   "outputs": [
    {
     "name": "stdout",
     "output_type": "stream",
     "text": [
      "WARNING:tensorflow:From C:\\Users\\jonat\\AppData\\Roaming\\Python\\Python39\\site-packages\\keras\\src\\losses.py:2976: The name tf.losses.sparse_softmax_cross_entropy is deprecated. Please use tf.compat.v1.losses.sparse_softmax_cross_entropy instead.\n",
      "\n"
     ]
    }
   ],
   "source": [
    "# Load pre-trained BERT model and tokenizer\n",
    "\n",
    "bert = AutoModel.from_pretrained('bert-base-uncased')\n",
    "tokenizer = BertTokenizerFast.from_pretrained('bert-base-uncased')"
   ]
  },
  {
   "cell_type": "code",
   "execution_count": 5,
   "id": "dc13d149",
   "metadata": {},
   "outputs": [
    {
     "data": {
      "text/plain": [
       "(array([2.4755e+04, 7.4800e+03, 1.9390e+03, 7.0300e+02, 1.1000e+02,\n",
       "        4.0000e+00, 3.0000e+00, 3.0000e+00, 1.0000e+00, 2.0000e+00]),\n",
       " array([   6. ,  252.4,  498.8,  745.2,  991.6, 1238. , 1484.4, 1730.8,\n",
       "        1977.2, 2223.6, 2470. ]),\n",
       " <BarContainer object of 10 artists>)"
      ]
     },
     "execution_count": 5,
     "metadata": {},
     "output_type": "execute_result"
    },
    {
     "data": {
      "image/png": "[encoded data removed]",
      "text/plain": [
       "<Figure size 640x480 with 1 Axes>"
      ]
     },
     "metadata": {},
     "output_type": "display_data"
    }
   ],
   "source": [
    "# Deciding the Padding lenght\n",
    "\n",
    "# If decide to set the padding lenght as the maximum lenght of the text found in the training texts,\n",
    "# it might leave the training data sparse. On the other hand, taking hte least lenght would in turn lead to loss\n",
    "# of information. \n",
    "# That is why, it is better to find the average lenght and set it as the padding length to trade-off between 2 extremes.\n",
    "\n",
    "# Plot\n",
    "\n",
    "train_lens = [len(i.split()) for i in train_text]\n",
    "plt.hist(train_lens)"
   ]
  },
  {
   "cell_type": "code",
   "execution_count": 6,
   "id": "f82e9b1e",
   "metadata": {},
   "outputs": [],
   "source": [
    "# Tokenize the data and encode sequences using the BERT tokenizer.\n",
    "\n",
    "pad_len = 450\n",
    "\n",
    "\n",
    "tokens_train = tokenizer.batch_encode_plus(train_text.tolist(),\n",
    "                                           max_length = pad_len,\n",
    "                                           padding = 'max_length',\n",
    "                                           truncation = True)\n",
    "\n",
    "tokens_val = tokenizer.batch_encode_plus(val_text.tolist(),\n",
    "                                         max_length = pad_len,\n",
    "                                         padding = 'max_length',\n",
    "                                         truncation = True)\n",
    "\n",
    "tokens_test = tokenizer.batch_encode_plus(test_text.tolist(),\n",
    "                                          max_length = pad_len,\n",
    "                                          padding = 'max_length',\n",
    "                                          truncation = True)\n",
    "\n",
    "\n",
    "\n",
    "# Since train_labels is a string, we need to create a mapping from the string labels to integers before converting to a PyTorch tensor. \n",
    "\n",
    "# Definition of label mapping\n",
    "label_map = {'positive': 1, 'negative': 0}\n",
    "\n",
    "# Convert string labels to integers using the label map, then to PyTorch Tensors.\n",
    "train_seq = torch.tensor(tokens_train['input_ids']) # Converts the input_ids from tokens_train dictionary into a PyTorch tensor.\n",
    "train_mask = torch.tensor(tokens_train['attention_mask']) # Converts the attention mask from tokens_train dictionary into a PyTorch tensor.\n",
    "train_y = torch.tensor([label_map[label] for label in train_labels]) # Map strings to integers.\n",
    "\n",
    "val_seq = torch.tensor(tokens_val['input_ids']) # Same process for validation set.\n",
    "val_mask = torch.tensor(tokens_val['attention_mask'])\n",
    "val_y = torch.tensor([label_map[label] for label in val_labels])\n",
    "\n",
    "test_seq = torch.tensor(tokens_test['input_ids']) # Same process for test set.\n",
    "test_mask = torch.tensor(tokens_test['attention_mask'])\n",
    "test_y = torch.tensor([label_map[label] for label in test_labels])\n"
   ]
  },
  {
   "cell_type": "code",
   "execution_count": 7,
   "id": "44366c7c",
   "metadata": {},
   "outputs": [],
   "source": [
    "# Defining the model\n",
    "\n",
    "# First step is to freeze the BERT pre-trained model, and then add layers.\n",
    "\n",
    "# Freeze the pretrained layers\n",
    "\n",
    "for param in bert.parameters():\n",
    "    param.requires_grad = False\n",
    "\n",
    "# Defining the new layers\n",
    "\n",
    "class BERT_architecture(nn.Module):\n",
    "    \n",
    "    def __init__(self, bert):\n",
    "        super(BERT_architecture, self).__init__()\n",
    "        \n",
    "        self.bert = bert\n",
    "        \n",
    "        # Dropout layer\n",
    "        self.dropout = nn.Dropout(0.2) # Layer to prevent overfitting.\n",
    "        \n",
    "        # relu activation function\n",
    "        self.relu = nn.ReLU() \n",
    "        \n",
    "        # dense layer   \n",
    "        self.fc1 = nn.Linear(768, 512)\n",
    "        \n",
    "        # Dense layer - Output\n",
    "        self.fc2 = nn.Linear(512, 2)\n",
    "        \n",
    "    # Definition of forward pass\n",
    "    def forward(self, sent_id, mask):\n",
    "        \n",
    "        # Pass the inputs to the model\n",
    "        _, cls_hs = self.bert(sent_id, attention_mask=mask, return_dict=False)\n",
    "        \n",
    "        x = self.fc1(cls_hs)\n",
    "        \n",
    "        x = self.relu(x)\n",
    "        \n",
    "        x = self.dropout(x)\n",
    "        \n",
    "        # Output layer\n",
    "        x = self.fc2(x)\n",
    "        \n",
    "        \n",
    "        return x"
   ]
  },
  {
   "cell_type": "code",
   "execution_count": 8,
   "id": "39f625a5",
   "metadata": {},
   "outputs": [],
   "source": [
    "# Add Optimizer to enhance performance\n",
    "\n",
    "model = BERT_architecture(bert)\n",
    "\n",
    "optimizer = AdamW(model.parameters(), lr=1e-5)"
   ]
  },
  {
   "cell_type": "code",
   "execution_count": 9,
   "id": "827705f9",
   "metadata": {},
   "outputs": [],
   "source": [
    "# Build datasets and dataloaders\n",
    "# TensorDataset is a PyTorch class that wraps tensors into a single dataset.\n",
    "# DataLoader is a PyTorch class that provides an iterable over a dataset with support for batching, shuffling, and parallel loading.\n",
    "# RandomSampler is a PyTorch class that samples elements randomly from a dataset.\n",
    "# SequentialSampler is a PyTorch class that samples elements sequentially, always in the same order.\n",
    "from torch.utils.data import TensorDataset, DataLoader, RandomSampler, SequentialSampler\n",
    "\n",
    "# TensorDataset(input_squences, attention_masks, labels)\n",
    "train_ds = TensorDataset(train_seq, train_mask, train_y.long())\n",
    "val_ds = TensorDataset(val_seq, val_mask, val_y.long())\n",
    "test_ds = TensorDataset(test_seq, test_mask, test_y.long())\n",
    "\n",
    "BATCH_SIZE = 16\n",
    "\n",
    "train_dataloader = DataLoader(train_ds, sampler=RandomSampler(train_ds), batch_size=BATCH_SIZE)\n",
    "val_dataloader = DataLoader(val_ds,sampler=SequentialSampler(val_ds), batch_size=BATCH_SIZE)\n",
    "test_dataloader = DataLoader(test_ds, sampler=SequentialSampler(test_ds), batch_size=BATCH_SIZE)"
   ]
  },
  {
   "cell_type": "code",
   "execution_count": 10,
   "id": "eeb03a6f",
   "metadata": {},
   "outputs": [],
   "source": [
    "# Loss, device and training/eval functions.\n",
    "\n",
    "device = torch.device('cuda' if torch.cuda.is_available() else 'cpu')\n",
    "model.to(device)\n",
    "\n",
    "criterion = nn.CrossEntropyLoss()\n",
    "\n",
    "def train_one_epoch():\n",
    "    model.train()\n",
    "    running = 0.0\n",
    "    \n",
    "    for step, (ids, mask, labels) in enumerate(train_dataloader):\n",
    "        ids, mask, labels = ids.to(device), mask.to(device), labels.to(device)\n",
    "        \n",
    "        optimizer.zero_grad() # Clear previous gradients.\n",
    "        logits = model(ids, mask) # head returns logits.\n",
    "        loss = criterion(logits, labels) # Compute the loss. criterion(output, target)\n",
    "        loss.backward() # Backpropagate the loss.\n",
    "        optimizer.step() # Update model parameters based on the computed gradients\n",
    "        \n",
    "        running += loss.item()\n",
    "        \n",
    "        if step % 50 == 0 and step != 0:\n",
    "            print(f\"Batch {step}/{len(train_dataloader)}. Loss= {running/(step+1):.4f}\")\n",
    "        \n",
    "    \n",
    "    return running/len(train_dataloader)\n",
    "            "
   ]
  },
  {
   "cell_type": "code",
   "execution_count": 11,
   "id": "cd8919c2",
   "metadata": {},
   "outputs": [],
   "source": [
    "# Evaluate function\n",
    "\n",
    "def evaluate(loader):\n",
    "    model.eval()\n",
    "    running = 0.0\n",
    "    \n",
    "    all_preds, all_labels = [], []\n",
    "    \n",
    "    for ids, mask, labels in loader: \n",
    "        ids, mask, labels = ids.to(device), mask.to(device), labels.to(device)\n",
    "        logits = model(ids, mask)\n",
    "        loss = criterion(logits, labels)\n",
    "        running += loss.item()\n",
    "        all_preds.append(logits.argmax(dim=1).cpu().numpy())\n",
    "        all_labels.append(labels.cpu().numpy())    \n",
    "    \n",
    "    return running/len(loader), np.concatenate(all_preds), np.concatenate(all_labels)"
   ]
  },
  {
   "cell_type": "code",
   "execution_count": null,
   "id": "c90ddca0",
   "metadata": {},
   "outputs": [
    {
     "name": "stdout",
     "output_type": "stream",
     "text": [
      "Batch 50/2188. Loss= 0.5856\n",
      "Batch 100/2188. Loss= 0.4649\n",
      "Batch 150/2188. Loss= 0.4045\n",
      "Batch 200/2188. Loss= 0.3683\n",
      "Batch 250/2188. Loss= 0.3447\n",
      "Batch 300/2188. Loss= 0.3291\n",
      "Batch 350/2188. Loss= 0.3145\n",
      "Batch 400/2188. Loss= 0.3073\n",
      "Batch 450/2188. Loss= 0.3007\n",
      "Batch 500/2188. Loss= 0.2945\n",
      "Batch 550/2188. Loss= 0.2904\n",
      "Batch 600/2188. Loss= 0.2858\n",
      "Batch 650/2188. Loss= 0.2807\n",
      "Batch 700/2188. Loss= 0.2762\n",
      "Batch 750/2188. Loss= 0.2696\n",
      "Batch 800/2188. Loss= 0.2658\n",
      "Batch 850/2188. Loss= 0.2630\n"
     ]
    }
   ],
   "source": [
    "from copy import deepcopy\n",
    "from sklearn.metrics import accuracy_score\n",
    "\n",
    "# Unfreeze BERT\n",
    "for p in model.bert.parameters():\n",
    "    p.requires_grad = True\n",
    "\n",
    "optimizer = AdamW(model.parameters(), lr=2e-5, weight_decay=0.01)\n",
    "\n",
    "EPOCHS = 3\n",
    "best_val_acc = -1.0\n",
    "best_state = None\n",
    "patience = 2\n",
    "bad_epochs = 0\n",
    "\n",
    "for ep in range(1, EPOCHS+1):\n",
    "    tr_loss = train_one_epoch()\n",
    "    val_loss, v_pred, v_true = evaluate(val_dataloader)\n",
    "    val_acc = accuracy_score(v_true, v_pred)\n",
    "    print(f\"Epoch {ep}: train_loss={tr_loss:.4f}  val_loss={val_loss:.4f}  val_acc={val_acc:.4f}\")\n",
    "\n",
    "    if val_acc > best_val_acc:\n",
    "        best_val_acc = val_acc\n",
    "        best_state = deepcopy(model.state_dict())\n",
    "        torch.save(best_state, \"best_bert_sentiment.pt\")\n",
    "        bad_epochs = 0\n",
    "    else:\n",
    "        bad_epochs += 1\n",
    "        if bad_epochs >= patience:\n",
    "            print(\"Early stopping.\")\n",
    "            break\n",
    "\n",
    "if best_state is not None:\n",
    "    model.load_state_dict(best_state)\n"
   ]
  },
  {
   "cell_type": "code",
   "execution_count": null,
   "id": "145cd1f4",
   "metadata": {},
   "outputs": [],
   "source": []
  },
  {
   "cell_type": "code",
   "execution_count": null,
   "id": "f88cc135",
   "metadata": {},
   "outputs": [],
   "source": []
  }
 ],
 "metadata": {
  "kernelspec": {
   "display_name": "Python 3",
   "language": "python",
   "name": "python3"
  },
  "language_info": {
   "codemirror_mode": {
    "name": "ipython",
    "version": 3
   },
   "file_extension": ".py",
   "mimetype": "text/x-python",
   "name": "python",
   "nbconvert_exporter": "python",
   "pygments_lexer": "ipython3",
   "version": "3.9.1"
  }
 },
 "nbformat": 4,
 "nbformat_minor": 5
}
