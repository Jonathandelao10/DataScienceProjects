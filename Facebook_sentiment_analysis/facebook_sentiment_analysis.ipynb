{
 "cells": [
  {
   "cell_type": "markdown",
   "id": "bac660e7",
   "metadata": {},
   "source": [
    "##### Facebook Sentiment Analysis with Python\n",
    "\n"
   ]
  },
  {
   "cell_type": "code",
   "execution_count": null,
   "id": "7aedb5dc",
   "metadata": {},
   "outputs": [],
   "source": [
    "# Imports\n",
    "\n",
    "import time\n",
    "import pandas as pd  \n",
    "import numpy as np\n",
    "import matplotlib.pyplot as plt\n",
    "import nltk\n",
    "import io\n",
    "import unicodedata\n",
    "import re\n",
    "import string\n",
    "from numpy import linalg # Provides sets of functions for linear algebra in python\n",
    "from nltk.sentiment.vader import SentimentIntensityAnalyzer # To analyze sentiment polarity (positive, negative, neutral, and compound).\n",
    "from nltk.tokenize import sent_tokenize, word_tokenize # To split a paragraph into sentences and sentences into words.\n",
    "from nltk.tokenize import PunktSentenceTokenizer # To split paragraph into sentences but allows you to train your own model on sample text.\n",
    "from nltk.corpus import webtext # Importing a sample corpus (contains text data from the web).\n",
    "from nltk.stem.porter import PorterStemmer # Imports Porter stemming algorithm (reduces words to their root or base form).\n",
    "from nltk.stem.wordnet import WordNetLemmatizer # imports the WordNet-based lemmatizer from NLTK — a more accurate alternative to stemming.\n"
   ]
  }
 ],
 "metadata": {
  "kernelspec": {
   "display_name": "Python 3",
   "language": "python",
   "name": "python3"
  },
  "language_info": {
   "name": "python",
   "version": "3.9.1"
  }
 },
 "nbformat": 4,
 "nbformat_minor": 5
}
